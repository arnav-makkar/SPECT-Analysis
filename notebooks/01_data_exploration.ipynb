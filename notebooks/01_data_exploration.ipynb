{
 "cells": [
  {
   "cell_type": "code",
   "execution_count": null,
   "id": "157797e3",
   "metadata": {},
   "outputs": [],
   "source": [
    "\"\"\"\n",
    "# PPMI Data Exploration & Analysis\n",
    "\n",
    "This notebook provides comprehensive exploration and analysis of the PPMI dataset.\n",
    "\"\"\""
   ]
  },
  {
   "cell_type": "code",
   "execution_count": 28,
   "id": "1663fea6",
   "metadata": {},
   "outputs": [],
   "source": [
    "# Cell 1: Imports and Setup\n",
    "import sys\n",
    "from pathlib import Path\n",
    "sys.path.append(str(Path.cwd().parent / 'src'))"
   ]
  },
  {
   "cell_type": "code",
   "execution_count": 29,
   "id": "784c6cd3",
   "metadata": {},
   "outputs": [],
   "source": [
    "import numpy as np\n",
    "import pandas as pd\n",
    "import matplotlib.pyplot as plt\n",
    "import seaborn as sns\n",
    "from tqdm import tqdm\n",
    "import warnings\n",
    "warnings.filterwarnings('ignore')"
   ]
  },
  {
   "cell_type": "code",
   "execution_count": 30,
   "id": "fa6bb1f6",
   "metadata": {},
   "outputs": [],
   "source": [
    "plt.style.use('default')\n",
    "sns.set_palette(\"husl\")\n",
    "plt.rcParams['figure.figsize'] = (12, 8)"
   ]
  },
  {
   "cell_type": "code",
   "execution_count": 31,
   "id": "97b37d7a",
   "metadata": {},
   "outputs": [
    {
     "name": "stdout",
     "output_type": "stream",
     "text": [
      "Libraries imported successfully!\n"
     ]
    }
   ],
   "source": [
    "print(\"Libraries imported successfully!\")"
   ]
  },
  {
   "cell_type": "code",
   "execution_count": 32,
   "id": "ec14b302",
   "metadata": {},
   "outputs": [
    {
     "name": "stdout",
     "output_type": "stream",
     "text": [
      "Changed working directory to: /Users/Arnav/Documents/BTP/PPMI\n",
      "PPMI_Data 1 exists: True\n",
      "PPMI_Data 2 exists: True\n"
     ]
    }
   ],
   "source": [
    "# Cell 2: Load PPMI Data\n",
    "import os\n",
    "from data.ppmi_custom_loader import load_ppmi_data\n",
    "\n",
    "# Change to the main project directory to find the data\n",
    "# Look for PPMI_Data folders in parent directories\n",
    "current_dir = Path.cwd()\n",
    "project_root = current_dir\n",
    "for _ in range(3):  # Look up to 3 levels up\n",
    "    if (current_dir / 'PPMI_Data 1').exists() or (current_dir / 'PPMI_Data 2').exists():\n",
    "        project_root = current_dir\n",
    "        break\n",
    "    current_dir = current_dir.parent\n",
    "\n",
    "os.chdir(project_root)\n",
    "print(f\"Changed working directory to: {os.getcwd()}\")\n",
    "print(f\"PPMI_Data 1 exists: {(project_root / 'PPMI_Data 1').exists()}\")\n",
    "print(f\"PPMI_Data 2 exists: {(project_root / 'PPMI_Data 2').exists()}\")"
   ]
  },
  {
   "cell_type": "code",
   "execution_count": 33,
   "id": "489cb432",
   "metadata": {},
   "outputs": [
    {
     "name": "stderr",
     "output_type": "stream",
     "text": [
      "INFO:data.ppmi_custom_loader:Creating image-to-patient mapping...\n",
      "INFO:data.ppmi_custom_loader:Searching for DICOM files in PPMI_Data 1\n",
      "INFO:data.ppmi_custom_loader:Searching for DICOM files in PPMI_Data 2\n",
      "INFO:data.ppmi_custom_loader:Found 19 DICOM files\n",
      "INFO:data.ppmi_custom_loader:Created mapping for 19 images\n",
      "INFO:data.ppmi_custom_loader:Unique patients: 7\n",
      "INFO:data.ppmi_custom_loader:Merging with clinical data...\n",
      "INFO:data.ppmi_custom_loader:Loading PPMI clinical data...\n",
      "INFO:data.ppmi_custom_loader:Loading idaSearch_9_03_2025.csv\n",
      "INFO:data.ppmi_custom_loader:Loaded idaSearch: (3979, 4)\n",
      "INFO:data.ppmi_custom_loader:Loading DaTscan_Imaging_03Sep2025.csv\n",
      "INFO:data.ppmi_custom_loader:Loaded DaTscan imaging: (12581, 17)\n",
      "INFO:data.ppmi_custom_loader:Final merged dataset: 313 images\n",
      "INFO:data.ppmi_custom_loader:Saved image mapping to data/metadata/ppmi_image_mapping.csv\n",
      "INFO:data.ppmi_custom_loader:Saved dataset summary to data/metadata/ppmi_dataset_summary.txt\n"
     ]
    },
    {
     "name": "stdout",
     "output_type": "stream",
     "text": [
      "Loading PPMI data...\n"
     ]
    }
   ],
   "source": [
    "print(\"Loading PPMI data...\")\n",
    "mapping_df, summary = load_ppmi_data()"
   ]
  },
  {
   "cell_type": "code",
   "execution_count": 34,
   "id": "ae4ac099",
   "metadata": {},
   "outputs": [
    {
     "name": "stdout",
     "output_type": "stream",
     "text": [
      "\n",
      "Dataset loaded: 313 images from 7 patients\n",
      "\n",
      "Data folder distribution:\n",
      "  PPMI_Data 2: 253 images\n",
      "  PPMI_Data 1: 60 images\n"
     ]
    }
   ],
   "source": [
    "print(f\"\\nDataset loaded: {summary['total_images']} images from {summary['unique_patients']} patients\")\n",
    "print(f\"\\nData folder distribution:\")\n",
    "for folder, count in summary['data_folders'].items():\n",
    "    print(f\"  {folder}: {count} images\")"
   ]
  },
  {
   "cell_type": "code",
   "execution_count": 35,
   "id": "60f9be3a",
   "metadata": {},
   "outputs": [
    {
     "data": {
      "text/html": [
       "<div>\n",
       "<style scoped>\n",
       "    .dataframe tbody tr th:only-of-type {\n",
       "        vertical-align: middle;\n",
       "    }\n",
       "\n",
       "    .dataframe tbody tr th {\n",
       "        vertical-align: top;\n",
       "    }\n",
       "\n",
       "    .dataframe thead th {\n",
       "        text-align: right;\n",
       "    }\n",
       "</style>\n",
       "<table border=\"1\" class=\"dataframe\">\n",
       "  <thead>\n",
       "    <tr style=\"text-align: right;\">\n",
       "      <th></th>\n",
       "      <th>patient_id</th>\n",
       "      <th>file_path</th>\n",
       "      <th>filename</th>\n",
       "      <th>data_folder</th>\n",
       "      <th>patient_id_from_filename</th>\n",
       "      <th>modality</th>\n",
       "      <th>acquisition_info</th>\n",
       "      <th>sex</th>\n",
       "      <th>age</th>\n",
       "      <th>description</th>\n",
       "      <th>EVENT_ID</th>\n",
       "      <th>INFODT</th>\n",
       "      <th>image_type</th>\n",
       "    </tr>\n",
       "  </thead>\n",
       "  <tbody>\n",
       "    <tr>\n",
       "      <th>0</th>\n",
       "      <td>100001</td>\n",
       "      <td>PPMI_Data 1/100001/Reconstructed_DaTSCAN/2024-...</td>\n",
       "      <td>PPMI_100001_NM_AC-018100001-4-DAT-G6N1__br_raw...</td>\n",
       "      <td>PPMI_Data 1</td>\n",
       "      <td>100001</td>\n",
       "      <td>NM</td>\n",
       "      <td>AC-018100001-4-DAT-G6N1</td>\n",
       "      <td>M</td>\n",
       "      <td>67.3</td>\n",
       "      <td>Reconstructed DaTSCAN &lt;- DaT Brain Tomo</td>\n",
       "      <td>SC</td>\n",
       "      <td>09/2020</td>\n",
       "      <td>spect</td>\n",
       "    </tr>\n",
       "    <tr>\n",
       "      <th>1</th>\n",
       "      <td>100001</td>\n",
       "      <td>PPMI_Data 1/100001/Reconstructed_DaTSCAN/2024-...</td>\n",
       "      <td>PPMI_100001_NM_AC-018100001-4-DAT-G6N1__br_raw...</td>\n",
       "      <td>PPMI_Data 1</td>\n",
       "      <td>100001</td>\n",
       "      <td>NM</td>\n",
       "      <td>AC-018100001-4-DAT-G6N1</td>\n",
       "      <td>M</td>\n",
       "      <td>67.3</td>\n",
       "      <td>Reconstructed DaTSCAN &lt;- DaT Brain Tomo</td>\n",
       "      <td>V02</td>\n",
       "      <td>04/2021</td>\n",
       "      <td>spect</td>\n",
       "    </tr>\n",
       "    <tr>\n",
       "      <th>2</th>\n",
       "      <td>100001</td>\n",
       "      <td>PPMI_Data 1/100001/Reconstructed_DaTSCAN/2024-...</td>\n",
       "      <td>PPMI_100001_NM_AC-018100001-4-DAT-G6N1__br_raw...</td>\n",
       "      <td>PPMI_Data 1</td>\n",
       "      <td>100001</td>\n",
       "      <td>NM</td>\n",
       "      <td>AC-018100001-4-DAT-G6N1</td>\n",
       "      <td>M</td>\n",
       "      <td>67.3</td>\n",
       "      <td>Reconstructed DaTSCAN &lt;- DaT Brain Tomo</td>\n",
       "      <td>V04</td>\n",
       "      <td>12/2021</td>\n",
       "      <td>spect</td>\n",
       "    </tr>\n",
       "    <tr>\n",
       "      <th>3</th>\n",
       "      <td>100001</td>\n",
       "      <td>PPMI_Data 1/100001/Reconstructed_DaTSCAN/2024-...</td>\n",
       "      <td>PPMI_100001_NM_AC-018100001-4-DAT-G6N1__br_raw...</td>\n",
       "      <td>PPMI_Data 1</td>\n",
       "      <td>100001</td>\n",
       "      <td>NM</td>\n",
       "      <td>AC-018100001-4-DAT-G6N1</td>\n",
       "      <td>M</td>\n",
       "      <td>67.3</td>\n",
       "      <td>Reconstructed DaTSCAN &lt;- DaT Brain Tomo</td>\n",
       "      <td>V05</td>\n",
       "      <td>04/2022</td>\n",
       "      <td>spect</td>\n",
       "    </tr>\n",
       "    <tr>\n",
       "      <th>4</th>\n",
       "      <td>100001</td>\n",
       "      <td>PPMI_Data 1/100001/Reconstructed_DaTSCAN/2024-...</td>\n",
       "      <td>PPMI_100001_NM_AC-018100001-4-DAT-G6N1__br_raw...</td>\n",
       "      <td>PPMI_Data 1</td>\n",
       "      <td>100001</td>\n",
       "      <td>NM</td>\n",
       "      <td>AC-018100001-4-DAT-G6N1</td>\n",
       "      <td>M</td>\n",
       "      <td>67.3</td>\n",
       "      <td>Reconstructed DaTSCAN &lt;- DaT Brain Tomo</td>\n",
       "      <td>V06</td>\n",
       "      <td>11/2022</td>\n",
       "      <td>spect</td>\n",
       "    </tr>\n",
       "  </tbody>\n",
       "</table>\n",
       "</div>"
      ],
      "text/plain": [
       "  patient_id                                          file_path  \\\n",
       "0     100001  PPMI_Data 1/100001/Reconstructed_DaTSCAN/2024-...   \n",
       "1     100001  PPMI_Data 1/100001/Reconstructed_DaTSCAN/2024-...   \n",
       "2     100001  PPMI_Data 1/100001/Reconstructed_DaTSCAN/2024-...   \n",
       "3     100001  PPMI_Data 1/100001/Reconstructed_DaTSCAN/2024-...   \n",
       "4     100001  PPMI_Data 1/100001/Reconstructed_DaTSCAN/2024-...   \n",
       "\n",
       "                                            filename  data_folder  \\\n",
       "0  PPMI_100001_NM_AC-018100001-4-DAT-G6N1__br_raw...  PPMI_Data 1   \n",
       "1  PPMI_100001_NM_AC-018100001-4-DAT-G6N1__br_raw...  PPMI_Data 1   \n",
       "2  PPMI_100001_NM_AC-018100001-4-DAT-G6N1__br_raw...  PPMI_Data 1   \n",
       "3  PPMI_100001_NM_AC-018100001-4-DAT-G6N1__br_raw...  PPMI_Data 1   \n",
       "4  PPMI_100001_NM_AC-018100001-4-DAT-G6N1__br_raw...  PPMI_Data 1   \n",
       "\n",
       "  patient_id_from_filename modality         acquisition_info sex   age  \\\n",
       "0                   100001       NM  AC-018100001-4-DAT-G6N1   M  67.3   \n",
       "1                   100001       NM  AC-018100001-4-DAT-G6N1   M  67.3   \n",
       "2                   100001       NM  AC-018100001-4-DAT-G6N1   M  67.3   \n",
       "3                   100001       NM  AC-018100001-4-DAT-G6N1   M  67.3   \n",
       "4                   100001       NM  AC-018100001-4-DAT-G6N1   M  67.3   \n",
       "\n",
       "                               description EVENT_ID   INFODT image_type  \n",
       "0  Reconstructed DaTSCAN <- DaT Brain Tomo       SC  09/2020      spect  \n",
       "1  Reconstructed DaTSCAN <- DaT Brain Tomo      V02  04/2021      spect  \n",
       "2  Reconstructed DaTSCAN <- DaT Brain Tomo      V04  12/2021      spect  \n",
       "3  Reconstructed DaTSCAN <- DaT Brain Tomo      V05  04/2022      spect  \n",
       "4  Reconstructed DaTSCAN <- DaT Brain Tomo      V06  11/2022      spect  "
      ]
     },
     "execution_count": 35,
     "metadata": {},
     "output_type": "execute_result"
    }
   ],
   "source": [
    "mapping_df.head()"
   ]
  },
  {
   "cell_type": "code",
   "execution_count": 36,
   "id": "73de2a28",
   "metadata": {},
   "outputs": [
    {
     "name": "stdout",
     "output_type": "stream",
     "text": [
      "Dataset Overview:\n",
      "Shape: (313, 13)\n",
      "Columns: ['patient_id', 'file_path', 'filename', 'data_folder', 'patient_id_from_filename', 'modality', 'acquisition_info', 'sex', 'age', 'description', 'EVENT_ID', 'INFODT', 'image_type']\n",
      "\n",
      "Missing values:\n",
      "patient_id                  0\n",
      "file_path                   0\n",
      "filename                    0\n",
      "data_folder                 0\n",
      "patient_id_from_filename    0\n",
      "modality                    0\n",
      "acquisition_info            0\n",
      "sex                         0\n",
      "age                         0\n",
      "description                 0\n",
      "EVENT_ID                    0\n",
      "INFODT                      0\n",
      "image_type                  0\n",
      "dtype: int64\n"
     ]
    }
   ],
   "source": [
    "# Cell 3: Data Overview & Visualization\n",
    "# Basic dataset statistics\n",
    "print(\"Dataset Overview:\")\n",
    "print(f\"Shape: {mapping_df.shape}\")\n",
    "print(f\"Columns: {list(mapping_df.columns)}\")\n",
    "print(f\"\\nMissing values:\")\n",
    "print(mapping_df.isnull().sum())"
   ]
  },
  {
   "cell_type": "code",
   "execution_count": 37,
   "id": "9ce37079",
   "metadata": {},
   "outputs": [
    {
     "data": {
      "image/png": "[encoded data removed]",
      "text/plain": [
       "<Figure size 1500x1200 with 4 Axes>"
      ]
     },
     "metadata": {},
     "output_type": "display_data"
    }
   ],
   "source": [
    "# Visualize data distribution\n",
    "fig, axes = plt.subplots(2, 2, figsize=(15, 12))"
   ]
  },
  {
   "cell_type": "code",
   "execution_count": 38,
   "id": "258eded7",
   "metadata": {},
   "outputs": [
    {
     "data": {
      "text/plain": [
       "Text(0.5, 1.0, 'Images by Data Folder')"
      ]
     },
     "execution_count": 38,
     "metadata": {},
     "output_type": "execute_result"
    }
   ],
   "source": [
    "# Data folder distribution\n",
    "axes[0,0].pie(summary['data_folders'].values(), labels=summary['data_folders'].keys(), autopct='%1.1f%%')\n",
    "axes[0,0].set_title('Images by Data Folder')"
   ]
  },
  {
   "cell_type": "code",
   "execution_count": 39,
   "id": "9ad4923c",
   "metadata": {},
   "outputs": [
    {
     "data": {
      "text/plain": [
       "Text(638.5353535353535, 0.5, 'Number of Patients')"
      ]
     },
     "execution_count": 39,
     "metadata": {},
     "output_type": "execute_result"
    }
   ],
   "source": [
    "# Patient distribution\n",
    "patient_counts = mapping_df['patient_id'].value_counts()\n",
    "axes[0,1].hist(patient_counts.values, bins=20, alpha=0.7, edgecolor='black')\n",
    "axes[0,1].set_title('Images per Patient Distribution')\n",
    "axes[0,1].set_xlabel('Number of Images')\n",
    "axes[0,1].set_ylabel('Number of Patients')"
   ]
  },
  {
   "cell_type": "code",
   "execution_count": 40,
   "id": "1735baac",
   "metadata": {},
   "outputs": [],
   "source": [
    "# Sex distribution (if available)\n",
    "if 'sex' in mapping_df.columns:\n",
    "    sex_counts = mapping_df['sex'].value_counts()\n",
    "    axes[1,0].bar(sex_counts.index, sex_counts.values, alpha=0.7)\n",
    "    axes[1,0].set_title('Sex Distribution')\n",
    "    axes[1,0].set_ylabel('Number of Images')"
   ]
  },
  {
   "cell_type": "code",
   "execution_count": 41,
   "id": "e06cf7b1",
   "metadata": {},
   "outputs": [],
   "source": [
    "# Age distribution (if available)\n",
    "if 'age' in mapping_df.columns:\n",
    "    age_data = pd.to_numeric(mapping_df['age'], errors='coerce').dropna()\n",
    "    if len(age_data) > 0:\n",
    "        axes[1,1].hist(age_data, bins=20, alpha=0.7, edgecolor='black')\n",
    "        axes[1,1].set_title('Age Distribution')\n",
    "        axes[1,1].set_xlabel('Age (years)')\n",
    "        axes[1,1].set_ylabel('Number of Images')"
   ]
  },
  {
   "cell_type": "code",
   "execution_count": 42,
   "id": "65a852f5",
   "metadata": {},
   "outputs": [
    {
     "data": {
      "text/plain": [
       "<Figure size 1200x800 with 0 Axes>"
      ]
     },
     "metadata": {},
     "output_type": "display_data"
    }
   ],
   "source": [
    "plt.tight_layout()\n",
    "plt.show()"
   ]
  },
  {
   "cell_type": "code",
   "execution_count": 43,
   "id": "19985316",
   "metadata": {},
   "outputs": [],
   "source": [
    "# Cell 4: DICOM Image Exploration\n",
    "from data.dicom_loader import DICOMLoader\n",
    "import pydicom"
   ]
  },
  {
   "cell_type": "code",
   "execution_count": 44,
   "id": "21ffc7a7",
   "metadata": {},
   "outputs": [
    {
     "name": "stdout",
     "output_type": "stream",
     "text": [
      "Loading sample DICOM: PPMI_Data 1/100001/Reconstructed_DaTSCAN/2024-09-11_15_13_41.0/I10960001/PPMI_100001_NM_AC-018100001-4-DAT-G6N1__br_raw_20240926190052673_1.dcm\n"
     ]
    }
   ],
   "source": [
    "# Load a sample DICOM file\n",
    "sample_file = mapping_df.iloc[0]['file_path']\n",
    "print(f\"Loading sample DICOM: {sample_file}\")"
   ]
  },
  {
   "cell_type": "code",
   "execution_count": 46,
   "id": "4681898f",
   "metadata": {},
   "outputs": [
    {
     "name": "stdout",
     "output_type": "stream",
     "text": [
      "\n",
      "DICOM metadata:\n",
      "Patient ID: 100001\n",
      "Modality: NM\n",
      "Image size: 109 x 91\n",
      "Pixel spacing: N/A\n",
      "Slice thickness: N/A\n"
     ]
    },
    {
     "ename": "TypeError",
     "evalue": "Invalid shape (91, 109, 91) for image data",
     "output_type": "error",
     "traceback": [
      "\u001b[31m---------------------------------------------------------------------------\u001b[39m",
      "\u001b[31mTypeError\u001b[39m                                 Traceback (most recent call last)",
      "\u001b[36mCell\u001b[39m\u001b[36m \u001b[39m\u001b[32mIn[46]\u001b[39m\u001b[32m, line 11\u001b[39m\n\u001b[32m      9\u001b[39m \u001b[38;5;66;03m# Display image\u001b[39;00m\n\u001b[32m     10\u001b[39m plt.figure(figsize=(\u001b[32m10\u001b[39m, \u001b[32m8\u001b[39m))\n\u001b[32m---> \u001b[39m\u001b[32m11\u001b[39m \u001b[43mplt\u001b[49m\u001b[43m.\u001b[49m\u001b[43mimshow\u001b[49m\u001b[43m(\u001b[49m\u001b[43mds\u001b[49m\u001b[43m.\u001b[49m\u001b[43mpixel_array\u001b[49m\u001b[43m,\u001b[49m\u001b[43m \u001b[49m\u001b[43mcmap\u001b[49m\u001b[43m=\u001b[49m\u001b[33;43m'\u001b[39;49m\u001b[33;43mhot\u001b[39;49m\u001b[33;43m'\u001b[39;49m\u001b[43m)\u001b[49m\n\u001b[32m     12\u001b[39m plt.title(\u001b[33mf\u001b[39m\u001b[33m'\u001b[39m\u001b[33mSPECT Image - Patient \u001b[39m\u001b[38;5;132;01m{\u001b[39;00mds.PatientID\u001b[38;5;250m \u001b[39m\u001b[38;5;28;01mif\u001b[39;00m\u001b[38;5;250m \u001b[39m\u001b[38;5;28mhasattr\u001b[39m(ds,\u001b[38;5;250m \u001b[39m\u001b[33m\"\u001b[39m\u001b[33mPatientID\u001b[39m\u001b[33m\"\u001b[39m)\u001b[38;5;250m \u001b[39m\u001b[38;5;28;01melse\u001b[39;00m\u001b[38;5;250m \u001b[39m\u001b[33m\"\u001b[39m\u001b[33mUnknown\u001b[39m\u001b[33m\"\u001b[39m\u001b[38;5;132;01m}\u001b[39;00m\u001b[33m'\u001b[39m)\n\u001b[32m     13\u001b[39m plt.colorbar(label=\u001b[33m'\u001b[39m\u001b[33mIntensity\u001b[39m\u001b[33m'\u001b[39m)\n",
      "\u001b[36mFile \u001b[39m\u001b[32m~/Documents/BTP/PPMI/venv/lib/python3.13/site-packages/matplotlib/pyplot.py:3601\u001b[39m, in \u001b[36mimshow\u001b[39m\u001b[34m(X, cmap, norm, aspect, interpolation, alpha, vmin, vmax, colorizer, origin, extent, interpolation_stage, filternorm, filterrad, resample, url, data, **kwargs)\u001b[39m\n\u001b[32m   3579\u001b[39m \u001b[38;5;129m@_copy_docstring_and_deprecators\u001b[39m(Axes.imshow)\n\u001b[32m   3580\u001b[39m \u001b[38;5;28;01mdef\u001b[39;00m\u001b[38;5;250m \u001b[39m\u001b[34mimshow\u001b[39m(\n\u001b[32m   3581\u001b[39m     X: ArrayLike | PIL.Image.Image,\n\u001b[32m   (...)\u001b[39m\u001b[32m   3599\u001b[39m     **kwargs,\n\u001b[32m   3600\u001b[39m ) -> AxesImage:\n\u001b[32m-> \u001b[39m\u001b[32m3601\u001b[39m     __ret = \u001b[43mgca\u001b[49m\u001b[43m(\u001b[49m\u001b[43m)\u001b[49m\u001b[43m.\u001b[49m\u001b[43mimshow\u001b[49m\u001b[43m(\u001b[49m\n\u001b[32m   3602\u001b[39m \u001b[43m        \u001b[49m\u001b[43mX\u001b[49m\u001b[43m,\u001b[49m\n\u001b[32m   3603\u001b[39m \u001b[43m        \u001b[49m\u001b[43mcmap\u001b[49m\u001b[43m=\u001b[49m\u001b[43mcmap\u001b[49m\u001b[43m,\u001b[49m\n\u001b[32m   3604\u001b[39m \u001b[43m        \u001b[49m\u001b[43mnorm\u001b[49m\u001b[43m=\u001b[49m\u001b[43mnorm\u001b[49m\u001b[43m,\u001b[49m\n\u001b[32m   3605\u001b[39m \u001b[43m        \u001b[49m\u001b[43maspect\u001b[49m\u001b[43m=\u001b[49m\u001b[43maspect\u001b[49m\u001b[43m,\u001b[49m\n\u001b[32m   3606\u001b[39m \u001b[43m        \u001b[49m\u001b[43minterpolation\u001b[49m\u001b[43m=\u001b[49m\u001b[43minterpolation\u001b[49m\u001b[43m,\u001b[49m\n\u001b[32m   3607\u001b[39m \u001b[43m        \u001b[49m\u001b[43malpha\u001b[49m\u001b[43m=\u001b[49m\u001b[43malpha\u001b[49m\u001b[43m,\u001b[49m\n\u001b[32m   3608\u001b[39m \u001b[43m        \u001b[49m\u001b[43mvmin\u001b[49m\u001b[43m=\u001b[49m\u001b[43mvmin\u001b[49m\u001b[43m,\u001b[49m\n\u001b[32m   3609\u001b[39m \u001b[43m        \u001b[49m\u001b[43mvmax\u001b[49m\u001b[43m=\u001b[49m\u001b[43mvmax\u001b[49m\u001b[43m,\u001b[49m\n\u001b[32m   3610\u001b[39m \u001b[43m        \u001b[49m\u001b[43mcolorizer\u001b[49m\u001b[43m=\u001b[49m\u001b[43mcolorizer\u001b[49m\u001b[43m,\u001b[49m\n\u001b[32m   3611\u001b[39m \u001b[43m        \u001b[49m\u001b[43morigin\u001b[49m\u001b[43m=\u001b[49m\u001b[43morigin\u001b[49m\u001b[43m,\u001b[49m\n\u001b[32m   3612\u001b[39m \u001b[43m        \u001b[49m\u001b[43mextent\u001b[49m\u001b[43m=\u001b[49m\u001b[43mextent\u001b[49m\u001b[43m,\u001b[49m\n\u001b[32m   3613\u001b[39m \u001b[43m        \u001b[49m\u001b[43minterpolation_stage\u001b[49m\u001b[43m=\u001b[49m\u001b[43minterpolation_stage\u001b[49m\u001b[43m,\u001b[49m\n\u001b[32m   3614\u001b[39m \u001b[43m        \u001b[49m\u001b[43mfilternorm\u001b[49m\u001b[43m=\u001b[49m\u001b[43mfilternorm\u001b[49m\u001b[43m,\u001b[49m\n\u001b[32m   3615\u001b[39m \u001b[43m        \u001b[49m\u001b[43mfilterrad\u001b[49m\u001b[43m=\u001b[49m\u001b[43mfilterrad\u001b[49m\u001b[43m,\u001b[49m\n\u001b[32m   3616\u001b[39m \u001b[43m        \u001b[49m\u001b[43mresample\u001b[49m\u001b[43m=\u001b[49m\u001b[43mresample\u001b[49m\u001b[43m,\u001b[49m\n\u001b[32m   3617\u001b[39m \u001b[43m        \u001b[49m\u001b[43murl\u001b[49m\u001b[43m=\u001b[49m\u001b[43murl\u001b[49m\u001b[43m,\u001b[49m\n\u001b[32m   3618\u001b[39m \u001b[43m        \u001b[49m\u001b[43m*\u001b[49m\u001b[43m*\u001b[49m\u001b[43m(\u001b[49m\u001b[43m{\u001b[49m\u001b[33;43m\"\u001b[39;49m\u001b[33;43mdata\u001b[39;49m\u001b[33;43m\"\u001b[39;49m\u001b[43m:\u001b[49m\u001b[43m \u001b[49m\u001b[43mdata\u001b[49m\u001b[43m}\u001b[49m\u001b[43m \u001b[49m\u001b[38;5;28;43;01mif\u001b[39;49;00m\u001b[43m \u001b[49m\u001b[43mdata\u001b[49m\u001b[43m \u001b[49m\u001b[38;5;129;43;01mis\u001b[39;49;00m\u001b[43m \u001b[49m\u001b[38;5;129;43;01mnot\u001b[39;49;00m\u001b[43m \u001b[49m\u001b[38;5;28;43;01mNone\u001b[39;49;00m\u001b[43m \u001b[49m\u001b[38;5;28;43;01melse\u001b[39;49;00m\u001b[43m \u001b[49m\u001b[43m{\u001b[49m\u001b[43m}\u001b[49m\u001b[43m)\u001b[49m\u001b[43m,\u001b[49m\n\u001b[32m   3619\u001b[39m \u001b[43m        \u001b[49m\u001b[43m*\u001b[49m\u001b[43m*\u001b[49m\u001b[43mkwargs\u001b[49m\u001b[43m,\u001b[49m\n\u001b[32m   3620\u001b[39m \u001b[43m    \u001b[49m\u001b[43m)\u001b[49m\n\u001b[32m   3621\u001b[39m     sci(__ret)\n\u001b[32m   3622\u001b[39m     \u001b[38;5;28;01mreturn\u001b[39;00m __ret\n",
      "\u001b[36mFile \u001b[39m\u001b[32m~/Documents/BTP/PPMI/venv/lib/python3.13/site-packages/matplotlib/__init__.py:1524\u001b[39m, in \u001b[36m_preprocess_data.<locals>.inner\u001b[39m\u001b[34m(ax, data, *args, **kwargs)\u001b[39m\n\u001b[32m   1521\u001b[39m \u001b[38;5;129m@functools\u001b[39m.wraps(func)\n\u001b[32m   1522\u001b[39m \u001b[38;5;28;01mdef\u001b[39;00m\u001b[38;5;250m \u001b[39m\u001b[34minner\u001b[39m(ax, *args, data=\u001b[38;5;28;01mNone\u001b[39;00m, **kwargs):\n\u001b[32m   1523\u001b[39m     \u001b[38;5;28;01mif\u001b[39;00m data \u001b[38;5;129;01mis\u001b[39;00m \u001b[38;5;28;01mNone\u001b[39;00m:\n\u001b[32m-> \u001b[39m\u001b[32m1524\u001b[39m         \u001b[38;5;28;01mreturn\u001b[39;00m \u001b[43mfunc\u001b[49m\u001b[43m(\u001b[49m\n\u001b[32m   1525\u001b[39m \u001b[43m            \u001b[49m\u001b[43max\u001b[49m\u001b[43m,\u001b[49m\n\u001b[32m   1526\u001b[39m \u001b[43m            \u001b[49m\u001b[43m*\u001b[49m\u001b[38;5;28;43mmap\u001b[39;49m\u001b[43m(\u001b[49m\u001b[43mcbook\u001b[49m\u001b[43m.\u001b[49m\u001b[43msanitize_sequence\u001b[49m\u001b[43m,\u001b[49m\u001b[43m \u001b[49m\u001b[43margs\u001b[49m\u001b[43m)\u001b[49m\u001b[43m,\u001b[49m\n\u001b[32m   1527\u001b[39m \u001b[43m            \u001b[49m\u001b[43m*\u001b[49m\u001b[43m*\u001b[49m\u001b[43m{\u001b[49m\u001b[43mk\u001b[49m\u001b[43m:\u001b[49m\u001b[43m \u001b[49m\u001b[43mcbook\u001b[49m\u001b[43m.\u001b[49m\u001b[43msanitize_sequence\u001b[49m\u001b[43m(\u001b[49m\u001b[43mv\u001b[49m\u001b[43m)\u001b[49m\u001b[43m \u001b[49m\u001b[38;5;28;43;01mfor\u001b[39;49;00m\u001b[43m \u001b[49m\u001b[43mk\u001b[49m\u001b[43m,\u001b[49m\u001b[43m \u001b[49m\u001b[43mv\u001b[49m\u001b[43m \u001b[49m\u001b[38;5;129;43;01min\u001b[39;49;00m\u001b[43m \u001b[49m\u001b[43mkwargs\u001b[49m\u001b[43m.\u001b[49m\u001b[43mitems\u001b[49m\u001b[43m(\u001b[49m\u001b[43m)\u001b[49m\u001b[43m}\u001b[49m\u001b[43m)\u001b[49m\n\u001b[32m   1529\u001b[39m     bound = new_sig.bind(ax, *args, **kwargs)\n\u001b[32m   1530\u001b[39m     auto_label = (bound.arguments.get(label_namer)\n\u001b[32m   1531\u001b[39m                   \u001b[38;5;129;01mor\u001b[39;00m bound.kwargs.get(label_namer))\n",
      "\u001b[36mFile \u001b[39m\u001b[32m~/Documents/BTP/PPMI/venv/lib/python3.13/site-packages/matplotlib/axes/_axes.py:5982\u001b[39m, in \u001b[36mAxes.imshow\u001b[39m\u001b[34m(self, X, cmap, norm, aspect, interpolation, alpha, vmin, vmax, colorizer, origin, extent, interpolation_stage, filternorm, filterrad, resample, url, **kwargs)\u001b[39m\n\u001b[32m   5979\u001b[39m \u001b[38;5;28;01mif\u001b[39;00m aspect \u001b[38;5;129;01mis\u001b[39;00m \u001b[38;5;129;01mnot\u001b[39;00m \u001b[38;5;28;01mNone\u001b[39;00m:\n\u001b[32m   5980\u001b[39m     \u001b[38;5;28mself\u001b[39m.set_aspect(aspect)\n\u001b[32m-> \u001b[39m\u001b[32m5982\u001b[39m \u001b[43mim\u001b[49m\u001b[43m.\u001b[49m\u001b[43mset_data\u001b[49m\u001b[43m(\u001b[49m\u001b[43mX\u001b[49m\u001b[43m)\u001b[49m\n\u001b[32m   5983\u001b[39m im.set_alpha(alpha)\n\u001b[32m   5984\u001b[39m \u001b[38;5;28;01mif\u001b[39;00m im.get_clip_path() \u001b[38;5;129;01mis\u001b[39;00m \u001b[38;5;28;01mNone\u001b[39;00m:\n\u001b[32m   5985\u001b[39m     \u001b[38;5;66;03m# image does not already have clipping set, clip to Axes patch\u001b[39;00m\n",
      "\u001b[36mFile \u001b[39m\u001b[32m~/Documents/BTP/PPMI/venv/lib/python3.13/site-packages/matplotlib/image.py:685\u001b[39m, in \u001b[36m_ImageBase.set_data\u001b[39m\u001b[34m(self, A)\u001b[39m\n\u001b[32m    683\u001b[39m \u001b[38;5;28;01mif\u001b[39;00m \u001b[38;5;28misinstance\u001b[39m(A, PIL.Image.Image):\n\u001b[32m    684\u001b[39m     A = pil_to_array(A)  \u001b[38;5;66;03m# Needed e.g. to apply png palette.\u001b[39;00m\n\u001b[32m--> \u001b[39m\u001b[32m685\u001b[39m \u001b[38;5;28mself\u001b[39m._A = \u001b[38;5;28;43mself\u001b[39;49m\u001b[43m.\u001b[49m\u001b[43m_normalize_image_array\u001b[49m\u001b[43m(\u001b[49m\u001b[43mA\u001b[49m\u001b[43m)\u001b[49m\n\u001b[32m    686\u001b[39m \u001b[38;5;28mself\u001b[39m._imcache = \u001b[38;5;28;01mNone\u001b[39;00m\n\u001b[32m    687\u001b[39m \u001b[38;5;28mself\u001b[39m.stale = \u001b[38;5;28;01mTrue\u001b[39;00m\n",
      "\u001b[36mFile \u001b[39m\u001b[32m~/Documents/BTP/PPMI/venv/lib/python3.13/site-packages/matplotlib/image.py:653\u001b[39m, in \u001b[36m_ImageBase._normalize_image_array\u001b[39m\u001b[34m(A)\u001b[39m\n\u001b[32m    651\u001b[39m     A = A.squeeze(-\u001b[32m1\u001b[39m)  \u001b[38;5;66;03m# If just (M, N, 1), assume scalar and apply colormap.\u001b[39;00m\n\u001b[32m    652\u001b[39m \u001b[38;5;28;01mif\u001b[39;00m \u001b[38;5;129;01mnot\u001b[39;00m (A.ndim == \u001b[32m2\u001b[39m \u001b[38;5;129;01mor\u001b[39;00m A.ndim == \u001b[32m3\u001b[39m \u001b[38;5;129;01mand\u001b[39;00m A.shape[-\u001b[32m1\u001b[39m] \u001b[38;5;129;01min\u001b[39;00m [\u001b[32m3\u001b[39m, \u001b[32m4\u001b[39m]):\n\u001b[32m--> \u001b[39m\u001b[32m653\u001b[39m     \u001b[38;5;28;01mraise\u001b[39;00m \u001b[38;5;167;01mTypeError\u001b[39;00m(\u001b[33mf\u001b[39m\u001b[33m\"\u001b[39m\u001b[33mInvalid shape \u001b[39m\u001b[38;5;132;01m{\u001b[39;00mA.shape\u001b[38;5;132;01m}\u001b[39;00m\u001b[33m for image data\u001b[39m\u001b[33m\"\u001b[39m)\n\u001b[32m    654\u001b[39m \u001b[38;5;28;01mif\u001b[39;00m A.ndim == \u001b[32m3\u001b[39m:\n\u001b[32m    655\u001b[39m     \u001b[38;5;66;03m# If the input data has values outside the valid range (after\u001b[39;00m\n\u001b[32m    656\u001b[39m     \u001b[38;5;66;03m# normalisation), we issue a warning and then clip X to the bounds\u001b[39;00m\n\u001b[32m    657\u001b[39m     \u001b[38;5;66;03m# - otherwise casting wraps extreme values, hiding outliers and\u001b[39;00m\n\u001b[32m    658\u001b[39m     \u001b[38;5;66;03m# making reliable interpretation impossible.\u001b[39;00m\n\u001b[32m    659\u001b[39m     high = \u001b[32m255\u001b[39m \u001b[38;5;28;01mif\u001b[39;00m np.issubdtype(A.dtype, np.integer) \u001b[38;5;28;01melse\u001b[39;00m \u001b[32m1\u001b[39m\n",
      "\u001b[31mTypeError\u001b[39m: Invalid shape (91, 109, 91) for image data"
     ]
    },
    {
     "data": {
      "image/png": "[encoded data removed]",
      "text/plain": [
       "<Figure size 1000x800 with 1 Axes>"
      ]
     },
     "metadata": {},
     "output_type": "display_data"
    }
   ],
   "source": [
    "\n",
    "ds = pydicom.dcmread(sample_file)\n",
    "print(f\"\\nDICOM metadata:\")\n",
    "print(f\"Patient ID: {getattr(ds, 'PatientID', 'N/A')}\")\n",
    "print(f\"Modality: {getattr(ds, 'Modality', 'N/A')}\")\n",
    "print(f\"Image size: {getattr(ds, 'Rows', 'N/A')} x {getattr(ds, 'Columns', 'N/A')}\")\n",
    "print(f\"Pixel spacing: {getattr(ds, 'PixelSpacing', 'N/A')}\")\n",
    "print(f\"Slice thickness: {getattr(ds, 'SliceThickness', 'N/A')}\")\n",
    "\n",
    "# Display image\n",
    "plt.figure(figsize=(10, 8))\n",
    "plt.imshow(ds.pixel_array, cmap='hot')\n",
    "plt.title(f'SPECT Image - Patient {ds.PatientID if hasattr(ds, \"PatientID\") else \"Unknown\"}')\n",
    "plt.colorbar(label='Intensity')\n",
    "plt.show()"
   ]
  },
  {
   "cell_type": "code",
   "execution_count": null,
   "id": "9d0823df",
   "metadata": {},
   "outputs": [],
   "source": [
    "except Exception as e:\n",
    "    print(f\"Error loading DICOM: {e}\")"
   ]
  },
  {
   "cell_type": "code",
   "execution_count": null,
   "id": "26f63829",
   "metadata": {},
   "outputs": [],
   "source": [
    "# Cell 5: SBR Feature Calculation & Baseline\n",
    "from features.simple_sbr_calculator import SimpleSBRCalculator"
   ]
  },
  {
   "cell_type": "code",
   "execution_count": null,
   "id": "73d94662",
   "metadata": {},
   "outputs": [],
   "source": [
    "# Initialize simplified SBR calculator\n",
    "sbr_calculator = SimpleSBRCalculator()"
   ]
  },
  {
   "cell_type": "code",
   "execution_count": null,
   "id": "c69e39a1",
   "metadata": {},
   "outputs": [],
   "source": [
    "# Calculate SBR features for a subset\n",
    "sample_size = min(20, len(mapping_df))\n",
    "sample_mapping = mapping_df.sample(n=sample_size, random_state=42)"
   ]
  },
  {
   "cell_type": "code",
   "execution_count": null,
   "id": "a4d72ca9",
   "metadata": {},
   "outputs": [],
   "source": [
    "print(f\"Calculating SBR features for {sample_size} sample images...\")\n",
    "sample_features = sbr_calculator.calculate_sbr_dataset(sample_mapping)"
   ]
  },
  {
   "cell_type": "code",
   "execution_count": null,
   "id": "0f0f91ef",
   "metadata": {},
   "outputs": [],
   "source": [
    "print(f\"\\nSBR features calculated: {len(sample_features.columns) - 4} features\")\n",
    "print(f\"Feature columns: {list(sample_features.columns)}\")"
   ]
  },
  {
   "cell_type": "code",
   "execution_count": null,
   "id": "d459a97e",
   "metadata": {},
   "outputs": [],
   "source": [
    "# Show feature summary\n",
    "sample_features.describe()"
   ]
  },
  {
   "cell_type": "code",
   "execution_count": null,
   "id": "f8b14491",
   "metadata": {},
   "outputs": [],
   "source": [
    "# Cell 6: Baseline Model Performance\n",
    "from sklearn.model_selection import train_test_split\n",
    "from sklearn.ensemble import RandomForestClassifier\n",
    "from sklearn.metrics import classification_report, confusion_matrix, roc_auc_score\n",
    "from sklearn.preprocessing import StandardScaler"
   ]
  },
  {
   "cell_type": "code",
   "execution_count": null,
   "id": "0769e38e",
   "metadata": {},
   "outputs": [],
   "source": [
    "# Prepare features for baseline model\n",
    "feature_cols = [col for col in sample_features.columns \n",
    "                if col not in ['file_path', 'patient_id', 'sex', 'age']]"
   ]
  },
  {
   "cell_type": "code",
   "execution_count": null,
   "id": "d37107c2",
   "metadata": {},
   "outputs": [],
   "source": [
    "X = sample_features[feature_cols].fillna(0)\n",
    "# For demonstration, create mock labels based on age (older = higher risk)\n",
    "y = (sample_features['age'] > 65).astype(int)"
   ]
  },
  {
   "cell_type": "code",
   "execution_count": null,
   "id": "86e15ca0",
   "metadata": {},
   "outputs": [],
   "source": [
    "print(f\"Features: {X.shape}\")\n",
    "print(f\"Labels: {y.shape}\")\n",
    "print(f\"Class distribution: {y.value_counts().to_dict()}\")"
   ]
  },
  {
   "cell_type": "code",
   "execution_count": null,
   "id": "64ba1e38",
   "metadata": {},
   "outputs": [],
   "source": [
    "# Split data\n",
    "X_train, X_test, y_train, y_test = train_test_split(X, y, test_size=0.3, random_state=42, stratify=y)"
   ]
  },
  {
   "cell_type": "code",
   "execution_count": null,
   "id": "f9ecf6fb",
   "metadata": {},
   "outputs": [],
   "source": [
    "# Scale features\n",
    "scaler = StandardScaler()\n",
    "X_train_scaled = scaler.fit_transform(X_train)\n",
    "X_test_scaled = scaler.transform(X_test)"
   ]
  },
  {
   "cell_type": "code",
   "execution_count": null,
   "id": "bab8a108",
   "metadata": {},
   "outputs": [],
   "source": [
    "# Train baseline model\n",
    "print(\"\\nTraining baseline Random Forest model...\")\n",
    "baseline_model = RandomForestClassifier(n_estimators=100, random_state=42)\n",
    "baseline_model.fit(X_train_scaled, y_train)"
   ]
  },
  {
   "cell_type": "code",
   "execution_count": null,
   "id": "8bf82f86",
   "metadata": {},
   "outputs": [],
   "source": [
    "# Evaluate\n",
    "y_pred = baseline_model.predict(X_test_scaled)\n",
    "y_pred_proba = baseline_model.predict_proba(X_test_scaled)[:, 1]"
   ]
  },
  {
   "cell_type": "code",
   "execution_count": null,
   "id": "ef4d21ca",
   "metadata": {},
   "outputs": [],
   "source": [
    "print(\"\\nBaseline Model Performance:\")\n",
    "print(\"=\" * 40)\n",
    "print(f\"Accuracy: {baseline_model.score(X_test_scaled, y_test):.3f}\")\n",
    "print(f\"ROC AUC: {roc_auc_score(y_test, y_pred_proba):.3f}\")\n",
    "print(\"\\nClassification Report:\")\n",
    "print(classification_report(y_test, y_pred))"
   ]
  },
  {
   "cell_type": "code",
   "execution_count": null,
   "id": "3b20e7b4",
   "metadata": {},
   "outputs": [],
   "source": [
    "# Feature importance\n",
    "feature_importance = pd.DataFrame({\n",
    "    'feature': feature_cols,\n",
    "    'importance': baseline_model.feature_importances_\n",
    "}).sort_values('importance', ascending=False)"
   ]
  },
  {
   "cell_type": "code",
   "execution_count": null,
   "id": "9c26e34a",
   "metadata": {},
   "outputs": [],
   "source": [
    "plt.figure(figsize=(12, 6))\n",
    "plt.bar(range(len(feature_importance)), feature_importance['importance'])\n",
    "plt.title('Feature Importance - Baseline Model')\n",
    "plt.xlabel('Features')\n",
    "plt.ylabel('Importance')\n",
    "plt.xticks(range(len(feature_importance)), feature_importance['feature'], rotation=45, ha='right')\n",
    "plt.tight_layout()\n",
    "plt.show()"
   ]
  },
  {
   "cell_type": "code",
   "execution_count": null,
   "id": "632855fc",
   "metadata": {},
   "outputs": [],
   "source": [
    "print(\"\\nTop 10 Most Important Features:\")\n",
    "print(feature_importance.head(10))"
   ]
  },
  {
   "cell_type": "code",
   "execution_count": null,
   "id": "cb4bb898",
   "metadata": {},
   "outputs": [],
   "source": [
    "# Cell 7: Summary & Next Steps\n",
    "print(\"🎉 PPMI EDA & Baseline Analysis Complete! 🎉\")\n",
    "print(\"\\n\" + \"=\"*60)\n",
    "print(\"SUMMARY\")\n",
    "print(\"=\"*60)"
   ]
  },
  {
   "cell_type": "code",
   "execution_count": null,
   "id": "cd85d56c",
   "metadata": {},
   "outputs": [],
   "source": [
    "print(f\"📊 Dataset: {summary['total_images']} images from {summary['unique_patients']} patients\")\n",
    "print(f\"📁 Data folders: {', '.join(summary['data_folders'].keys())}\")\n",
    "print(f\"🔬 Features calculated: {len(feature_cols)}\")\n",
    "print(f\"🎯 Baseline performance: ROC AUC = {roc_auc_score(y_test, y_pred_proba):.3f}\")"
   ]
  },
  {
   "cell_type": "code",
   "execution_count": null,
   "id": "038c8dfd",
   "metadata": {},
   "outputs": [],
   "source": [
    "print(\"\\n🚀 Next Steps:\")\n",
    "print(\"1. Run full preprocessing pipeline: python src/main.py\")\n",
    "print(\"2. Train CNN models for comparison\")\n",
    "print(\"3. Implement cross-validation\")\n",
    "print(\"4. Add more sophisticated feature engineering\")\n",
    "# Test comment for auto-sync"
   ]
  }
 ],
 "metadata": {
  "jupytext": {
   "cell_metadata_filter": "jupytext,-all",
   "formats": "ipynb,py:percent",
   "main_language": "python",
   "notebook_metadata_filter": "jupytext,-all"
  },
  "language_info": {
   "name": "python"
  }
 },
 "nbformat": 4,
 "nbformat_minor": 5
}
