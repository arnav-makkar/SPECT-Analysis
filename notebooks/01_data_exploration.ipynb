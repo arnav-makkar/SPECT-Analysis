{
 "cells": [
  {
   "cell_type": "code",
   "execution_count": null,
   "id": "f84f25bb",
   "metadata": {},
   "outputs": [],
   "source": [
    "\"\"\"\n",
    "# PPMI Data Exploration & Analysis\n",
    "\n",
    "This notebook provides comprehensive exploration and analysis of the PPMI dataset.\n",
    "\"\"\""
   ]
  },
  {
   "cell_type": "code",
   "execution_count": null,
   "id": "1d01b7b0",
   "metadata": {},
   "outputs": [],
   "source": [
    "# Cell 1: Imports and Setup\n",
    "import sys\n",
    "from pathlib import Path\n",
    "sys.path.append(str(Path.cwd().parent / 'src'))"
   ]
  },
  {
   "cell_type": "code",
   "execution_count": null,
   "id": "cec38bec",
   "metadata": {},
   "outputs": [],
   "source": [
    "import numpy as np\n",
    "import pandas as pd\n",
    "import matplotlib.pyplot as plt\n",
    "import seaborn as sns\n",
    "from tqdm import tqdm\n",
    "import warnings\n",
    "warnings.filterwarnings('ignore')"
   ]
  },
  {
   "cell_type": "code",
   "execution_count": null,
   "id": "a97a36cc",
   "metadata": {},
   "outputs": [],
   "source": [
    "plt.style.use('default')\n",
    "sns.set_palette(\"husl\")\n",
    "plt.rcParams['figure.figsize'] = (12, 8)"
   ]
  },
  {
   "cell_type": "code",
   "execution_count": null,
   "id": "49c45ae3",
   "metadata": {},
   "outputs": [],
   "source": [
    "print(\"Libraries imported successfully!\")"
   ]
  },
  {
   "cell_type": "code",
   "execution_count": null,
   "id": "8c55aa53",
   "metadata": {},
   "outputs": [],
   "source": [
    "# Cell 2: Load PPMI Data\n",
    "from data.ppmi_custom_loader import load_ppmi_data"
   ]
  },
  {
   "cell_type": "code",
   "execution_count": null,
   "id": "e1e2659d",
   "metadata": {},
   "outputs": [],
   "source": [
    "print(\"Loading PPMI data...\")\n",
    "mapping_df, summary = load_ppmi_data()"
   ]
  },
  {
   "cell_type": "code",
   "execution_count": null,
   "id": "81648027",
   "metadata": {},
   "outputs": [],
   "source": [
    "print(f\"\\nDataset loaded: {summary['total_images']} images from {summary['unique_patients']} patients\")\n",
    "print(f\"\\nData folder distribution:\")\n",
    "for folder, count in summary['data_folders'].items():\n",
    "    print(f\"  {folder}: {count} images\")"
   ]
  },
  {
   "cell_type": "code",
   "execution_count": null,
   "id": "bbb7d64c",
   "metadata": {},
   "outputs": [],
   "source": [
    "mapping_df.head()"
   ]
  },
  {
   "cell_type": "code",
   "execution_count": null,
   "id": "08a350b5",
   "metadata": {},
   "outputs": [],
   "source": [
    "# Cell 3: Data Overview & Visualization\n",
    "# Basic dataset statistics\n",
    "print(\"Dataset Overview:\")\n",
    "print(f\"Shape: {mapping_df.shape}\")\n",
    "print(f\"Columns: {list(mapping_df.columns)}\")\n",
    "print(f\"\\nMissing values:\")\n",
    "print(mapping_df.isnull().sum())"
   ]
  },
  {
   "cell_type": "code",
   "execution_count": null,
   "id": "2d539d76",
   "metadata": {},
   "outputs": [],
   "source": [
    "# Visualize data distribution\n",
    "fig, axes = plt.subplots(2, 2, figsize=(15, 12))"
   ]
  },
  {
   "cell_type": "code",
   "execution_count": null,
   "id": "ef722b50",
   "metadata": {},
   "outputs": [],
   "source": [
    "# Data folder distribution\n",
    "axes[0,0].pie(summary['data_folders'].values(), labels=summary['data_folders'].keys(), autopct='%1.1f%%')\n",
    "axes[0,0].set_title('Images by Data Folder')"
   ]
  },
  {
   "cell_type": "code",
   "execution_count": null,
   "id": "e9b60cba",
   "metadata": {},
   "outputs": [],
   "source": [
    "# Patient distribution\n",
    "patient_counts = mapping_df['patient_id'].value_counts()\n",
    "axes[0,1].hist(patient_counts.values, bins=20, alpha=0.7, edgecolor='black')\n",
    "axes[0,1].set_title('Images per Patient Distribution')\n",
    "axes[0,1].set_xlabel('Number of Images')\n",
    "axes[0,1].set_ylabel('Number of Patients')"
   ]
  },
  {
   "cell_type": "code",
   "execution_count": null,
   "id": "a329a46f",
   "metadata": {},
   "outputs": [],
   "source": [
    "# Sex distribution (if available)\n",
    "if 'sex' in mapping_df.columns:\n",
    "    sex_counts = mapping_df['sex'].value_counts()\n",
    "    axes[1,0].bar(sex_counts.index, sex_counts.values, alpha=0.7)\n",
    "    axes[1,0].set_title('Sex Distribution')\n",
    "    axes[1,0].set_ylabel('Number of Images')"
   ]
  },
  {
   "cell_type": "code",
   "execution_count": null,
   "id": "bafa0f94",
   "metadata": {},
   "outputs": [],
   "source": [
    "# Age distribution (if available)\n",
    "if 'age' in mapping_df.columns:\n",
    "    age_data = pd.to_numeric(mapping_df['age'], errors='coerce').dropna()\n",
    "    if len(age_data) > 0:\n",
    "        axes[1,1].hist(age_data, bins=20, alpha=0.7, edgecolor='black')\n",
    "        axes[1,1].set_title('Age Distribution')\n",
    "        axes[1,1].set_xlabel('Age (years)')\n",
    "        axes[1,1].set_ylabel('Number of Images')"
   ]
  },
  {
   "cell_type": "code",
   "execution_count": null,
   "id": "6446fe90",
   "metadata": {},
   "outputs": [],
   "source": [
    "plt.tight_layout()\n",
    "plt.show()"
   ]
  },
  {
   "cell_type": "code",
   "execution_count": null,
   "id": "e5b5e67e",
   "metadata": {},
   "outputs": [],
   "source": [
    "# Cell 4: DICOM Image Exploration\n",
    "from data.dicom_loader import DICOMLoader\n",
    "import pydicom"
   ]
  },
  {
   "cell_type": "code",
   "execution_count": null,
   "id": "60a4a58f",
   "metadata": {},
   "outputs": [],
   "source": [
    "# Load a sample DICOM file\n",
    "sample_file = mapping_df.iloc[0]['file_path']\n",
    "print(f\"Loading sample DICOM: {sample_file}\")"
   ]
  },
  {
   "cell_type": "code",
   "execution_count": null,
   "id": "8a7a90dc",
   "metadata": {},
   "outputs": [],
   "source": [
    "try:\n",
    "    ds = pydicom.dcmread(sample_file)\n",
    "    print(f\"\\nDICOM metadata:\")\n",
    "    print(f\"Patient ID: {getattr(ds, 'PatientID', 'N/A')}\")\n",
    "    print(f\"Modality: {getattr(ds, 'Modality', 'N/A')}\")\n",
    "    print(f\"Image size: {getattr(ds, 'Rows', 'N/A')} x {getattr(ds, 'Columns', 'N/A')}\")\n",
    "    print(f\"Pixel spacing: {getattr(ds, 'PixelSpacing', 'N/A')}\")\n",
    "    print(f\"Slice thickness: {getattr(ds, 'SliceThickness', 'N/A')}\")\n",
    "    \n",
    "    # Display image\n",
    "    plt.figure(figsize=(10, 8))\n",
    "    plt.imshow(ds.pixel_array, cmap='hot')\n",
    "    plt.title(f'SPECT Image - Patient {ds.PatientID if hasattr(ds, \"PatientID\") else \"Unknown\"}')\n",
    "    plt.colorbar(label='Intensity')\n",
    "    plt.show()"
   ]
  },
  {
   "cell_type": "code",
   "execution_count": null,
   "id": "3b3b1e1f",
   "metadata": {},
   "outputs": [],
   "source": [
    "except Exception as e:\n",
    "    print(f\"Error loading DICOM: {e}\")"
   ]
  },
  {
   "cell_type": "code",
   "execution_count": null,
   "id": "1c250cb1",
   "metadata": {},
   "outputs": [],
   "source": [
    "# Cell 5: SBR Feature Calculation & Baseline\n",
    "from features.sbr_calculator import SBRCalculator\n",
    "from utils.config import get_config"
   ]
  },
  {
   "cell_type": "code",
   "execution_count": null,
   "id": "3dcbf3a0",
   "metadata": {},
   "outputs": [],
   "source": [
    "config = get_config()\n",
    "sbr_calculator = SBRCalculator(config)"
   ]
  },
  {
   "cell_type": "code",
   "execution_count": null,
   "id": "5e897228",
   "metadata": {},
   "outputs": [],
   "source": [
    "# Calculate SBR features for a subset\n",
    "sample_size = min(20, len(mapping_df))\n",
    "sample_mapping = mapping_df.sample(n=sample_size, random_state=42)"
   ]
  },
  {
   "cell_type": "code",
   "execution_count": null,
   "id": "07ffe3bd",
   "metadata": {},
   "outputs": [],
   "source": [
    "print(f\"Calculating SBR features for {sample_size} sample images...\")\n",
    "sample_features = sbr_calculator.calculate_sbr_dataset(sample_mapping)"
   ]
  },
  {
   "cell_type": "code",
   "execution_count": null,
   "id": "89a8e4bb",
   "metadata": {},
   "outputs": [],
   "source": [
    "print(f\"\\nSBR features calculated: {len(sample_features.columns) - 3} features\")\n",
    "print(f\"Feature columns: {list(sample_features.columns)}\")"
   ]
  },
  {
   "cell_type": "code",
   "execution_count": null,
   "id": "5cb4969a",
   "metadata": {},
   "outputs": [],
   "source": [
    "# Show feature summary\n",
    "sample_features.describe()"
   ]
  },
  {
   "cell_type": "code",
   "execution_count": null,
   "id": "82d83c27",
   "metadata": {},
   "outputs": [],
   "source": [
    "# Cell 6: Baseline Model Performance\n",
    "from sklearn.model_selection import train_test_split\n",
    "from sklearn.ensemble import RandomForestClassifier\n",
    "from sklearn.metrics import classification_report, confusion_matrix, roc_auc_score\n",
    "from sklearn.preprocessing import StandardScaler"
   ]
  },
  {
   "cell_type": "code",
   "execution_count": null,
   "id": "e7380b2a",
   "metadata": {},
   "outputs": [],
   "source": [
    "# Prepare features for baseline model\n",
    "feature_cols = [col for col in sample_features.columns \n",
    "                if col not in ['series_path', 'patient_id', 'label']]"
   ]
  },
  {
   "cell_type": "code",
   "execution_count": null,
   "id": "9320bb4b",
   "metadata": {},
   "outputs": [],
   "source": [
    "X = sample_features[feature_cols].fillna(0)\n",
    "y = sample_features['label']"
   ]
  },
  {
   "cell_type": "code",
   "execution_count": null,
   "id": "0612ff14",
   "metadata": {},
   "outputs": [],
   "source": [
    "print(f\"Features: {X.shape}\")\n",
    "print(f\"Labels: {y.shape}\")\n",
    "print(f\"Class distribution: {y.value_counts().to_dict()}\")"
   ]
  },
  {
   "cell_type": "code",
   "execution_count": null,
   "id": "9e9f6ffe",
   "metadata": {},
   "outputs": [],
   "source": [
    "# Split data\n",
    "X_train, X_test, y_train, y_test = train_test_split(X, y, test_size=0.3, random_state=42, stratify=y)"
   ]
  },
  {
   "cell_type": "code",
   "execution_count": null,
   "id": "5ca64a03",
   "metadata": {},
   "outputs": [],
   "source": [
    "# Scale features\n",
    "scaler = StandardScaler()\n",
    "X_train_scaled = scaler.fit_transform(X_train)\n",
    "X_test_scaled = scaler.transform(X_test)"
   ]
  },
  {
   "cell_type": "code",
   "execution_count": null,
   "id": "d804ebb5",
   "metadata": {},
   "outputs": [],
   "source": [
    "# Train baseline model\n",
    "print(\"\\nTraining baseline Random Forest model...\")\n",
    "baseline_model = RandomForestClassifier(n_estimators=100, random_state=42)\n",
    "baseline_model.fit(X_train_scaled, y_train)"
   ]
  },
  {
   "cell_type": "code",
   "execution_count": null,
   "id": "b1a2a18b",
   "metadata": {},
   "outputs": [],
   "source": [
    "# Evaluate\n",
    "y_pred = baseline_model.predict(X_test_scaled)\n",
    "y_pred_proba = baseline_model.predict_proba(X_test_scaled)[:, 1]"
   ]
  },
  {
   "cell_type": "code",
   "execution_count": null,
   "id": "e1bf268d",
   "metadata": {},
   "outputs": [],
   "source": [
    "print(\"\\nBaseline Model Performance:\")\n",
    "print(\"=\" * 40)\n",
    "print(f\"Accuracy: {baseline_model.score(X_test_scaled, y_test):.3f}\")\n",
    "print(f\"ROC AUC: {roc_auc_score(y_test, y_pred_proba):.3f}\")\n",
    "print(\"\\nClassification Report:\")\n",
    "print(classification_report(y_test, y_pred))"
   ]
  },
  {
   "cell_type": "code",
   "execution_count": null,
   "id": "6297d160",
   "metadata": {},
   "outputs": [],
   "source": [
    "# Feature importance\n",
    "feature_importance = pd.DataFrame({\n",
    "    'feature': feature_cols,\n",
    "    'importance': baseline_model.feature_importances_\n",
    "}).sort_values('importance', ascending=False)"
   ]
  },
  {
   "cell_type": "code",
   "execution_count": null,
   "id": "2e2c848a",
   "metadata": {},
   "outputs": [],
   "source": [
    "plt.figure(figsize=(12, 6))\n",
    "plt.bar(range(len(feature_importance)), feature_importance['importance'])\n",
    "plt.title('Feature Importance - Baseline Model')\n",
    "plt.xlabel('Features')\n",
    "plt.ylabel('Importance')\n",
    "plt.xticks(range(len(feature_importance)), feature_importance['feature'], rotation=45, ha='right')\n",
    "plt.tight_layout()\n",
    "plt.show()"
   ]
  },
  {
   "cell_type": "code",
   "execution_count": null,
   "id": "67c2fbb5",
   "metadata": {},
   "outputs": [],
   "source": [
    "print(\"\\nTop 10 Most Important Features:\")\n",
    "print(feature_importance.head(10))"
   ]
  },
  {
   "cell_type": "code",
   "execution_count": null,
   "id": "c1a9a1d3",
   "metadata": {},
   "outputs": [],
   "source": [
    "# Cell 7: Summary & Next Steps\n",
    "print(\"🎉 PPMI EDA & Baseline Analysis Complete! 🎉\")\n",
    "print(\"\\n\" + \"=\"*60)\n",
    "print(\"SUMMARY\")\n",
    "print(\"=\"*60)"
   ]
  },
  {
   "cell_type": "code",
   "execution_count": null,
   "id": "3a17b251",
   "metadata": {},
   "outputs": [],
   "source": [
    "print(f\"📊 Dataset: {summary['total_images']} images from {summary['unique_patients']} patients\")\n",
    "print(f\"📁 Data folders: {', '.join(summary['data_folders'].keys())}\")\n",
    "print(f\"🔬 Features calculated: {len(feature_cols)}\")\n",
    "print(f\"🎯 Baseline performance: ROC AUC = {roc_auc_score(y_test, y_pred_proba):.3f}\")"
   ]
  },
  {
   "cell_type": "code",
   "execution_count": null,
   "id": "e415ce73",
   "metadata": {},
   "outputs": [],
   "source": [
    "print(\"\\n🚀 Next Steps:\")\n",
    "print(\"1. Run full preprocessing pipeline: python src/main.py\")\n",
    "print(\"2. Train CNN models for comparison\")\n",
    "print(\"3. Implement cross-validation\")\n",
    "print(\"4. Add more sophisticated feature engineering\")\n",
    "# Test comment for auto-sync"
   ]
  }
 ],
 "metadata": {
  "jupytext": {
   "cell_metadata_filter": "jupytext,-all",
   "formats": "ipynb,py:percent",
   "main_language": "python",
   "notebook_metadata_filter": "jupytext,-all"
  },
  "language_info": {
   "name": "python"
  }
 },
 "nbformat": 4,
 "nbformat_minor": 5
}
