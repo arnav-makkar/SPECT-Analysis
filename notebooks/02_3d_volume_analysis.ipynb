{
 "cells": [
  {
   "cell_type": "code",
   "execution_count": null,
   "id": "d1af7a74",
   "metadata": {},
   "outputs": [],
   "source": [
    "\"\"\"\n",
    "# PPMI 3D Volume Analysis\n",
    "\n",
    "This notebook focuses on analyzing the 3D SPECT volumes and extracting meaningful features.\n",
    "\"\"\""
   ]
  },
  {
   "cell_type": "code",
   "execution_count": null,
   "id": "cd22ecbc",
   "metadata": {},
   "outputs": [],
   "source": [
    "# Cell 1: Imports and Setup\n",
    "import sys\n",
    "from pathlib import Path\n",
    "sys.path.append(str(Path.cwd().parent / 'src'))"
   ]
  },
  {
   "cell_type": "code",
   "execution_count": null,
   "id": "52451d8e",
   "metadata": {},
   "outputs": [],
   "source": [
    "import numpy as np\n",
    "import pandas as pd\n",
    "import matplotlib.pyplot as plt\n",
    "import seaborn as sns\n",
    "import pydicom\n",
    "from mpl_toolkits.axes_grid1 import ImageGrid\n",
    "import warnings\n",
    "warnings.filterwarnings('ignore')"
   ]
  },
  {
   "cell_type": "code",
   "execution_count": null,
   "id": "a2778509",
   "metadata": {},
   "outputs": [],
   "source": [
    "plt.style.use('default')\n",
    "sns.set_palette(\"husl\")\n",
    "plt.rcParams['figure.figsize'] = (12, 8)"
   ]
  },
  {
   "cell_type": "code",
   "execution_count": null,
   "id": "22cf791a",
   "metadata": {},
   "outputs": [],
   "source": [
    "print(\"Libraries imported successfully!\")"
   ]
  },
  {
   "cell_type": "code",
   "execution_count": null,
   "id": "a84ac086",
   "metadata": {},
   "outputs": [],
   "source": [
    "# Cell 2: Load Data and Select Sample Volumes\n",
    "from data.ppmi_custom_loader import load_ppmi_data"
   ]
  },
  {
   "cell_type": "code",
   "execution_count": null,
   "id": "a6bdf3dc",
   "metadata": {},
   "outputs": [],
   "source": [
    "# Load PPMI data\n",
    "mapping_df, summary = load_ppmi_data()\n",
    "print(f\"Dataset loaded: {summary['total_images']} images from {summary['unique_patients']} patients\")"
   ]
  },
  {
   "cell_type": "code",
   "execution_count": null,
   "id": "fe01c856",
   "metadata": {},
   "outputs": [],
   "source": [
    "# Select sample volumes from different patients\n",
    "sample_volumes = []\n",
    "for patient_id in mapping_df['patient_id'].unique():\n",
    "    patient_images = mapping_df[mapping_df['patient_id'] == patient_id]\n",
    "    sample_volumes.append(patient_images.iloc[0])"
   ]
  },
  {
   "cell_type": "code",
   "execution_count": null,
   "id": "adf70990",
   "metadata": {
    "lines_to_next_cell": 1
   },
   "outputs": [],
   "source": [
    "print(f\"Selected {len(sample_volumes)} sample volumes for analysis\")"
   ]
  },
  {
   "cell_type": "code",
   "execution_count": null,
   "id": "9a496dfe",
   "metadata": {
    "lines_to_next_cell": 1
   },
   "outputs": [],
   "source": [
    "# Cell 3: 3D Volume Loading and Basic Analysis\n",
    "def load_3d_volume(file_path):\n",
    "    \"\"\"Load a 3D DICOM volume.\"\"\"\n",
    "    try:\n",
    "        ds = pydicom.dcmread(file_path)\n",
    "        volume = ds.pixel_array\n",
    "        return volume, ds\n",
    "    except Exception as e:\n",
    "        print(f\"Error loading {file_path}: {e}\")\n",
    "        return None, None"
   ]
  },
  {
   "cell_type": "code",
   "execution_count": null,
   "id": "0e191545",
   "metadata": {},
   "outputs": [],
   "source": [
    "# Load first sample volume\n",
    "sample_file = sample_volumes[0]['file_path']\n",
    "print(f\"Loading sample volume: {sample_file}\")"
   ]
  },
  {
   "cell_type": "code",
   "execution_count": null,
   "id": "4ce123d0",
   "metadata": {
    "lines_to_next_cell": 1
   },
   "outputs": [],
   "source": [
    "volume, ds = load_3d_volume(sample_file)\n",
    "if volume is not None:\n",
    "    print(f\"Volume shape: {volume.shape}\")\n",
    "    print(f\"Data type: {volume.dtype}\")\n",
    "    print(f\"Intensity range: [{volume.min()}, {volume.max()}]\")\n",
    "    print(f\"Mean intensity: {volume.mean():.1f}\")\n",
    "    print(f\"Standard deviation: {volume.std():.1f}\")"
   ]
  },
  {
   "cell_type": "code",
   "execution_count": null,
   "id": "9b51d95c",
   "metadata": {
    "lines_to_next_cell": 1
   },
   "outputs": [],
   "source": [
    "# Cell 4: Multi-Planar Visualization\n",
    "def visualize_3d_volume(volume, patient_id, sex, age):\n",
    "    \"\"\"Create comprehensive 3D volume visualization.\"\"\"\n",
    "    \n",
    "    fig = plt.figure(figsize=(20, 12))\n",
    "    \n",
    "    # Create a grid of images showing different slices\n",
    "    grid = ImageGrid(fig, 111,\n",
    "                    nrows_ncols=(3, 4),\n",
    "                    axes_pad=0.1,\n",
    "                    label_mode=\"L\",\n",
    "                    share_all=True)\n",
    "    \n",
    "    # Show different slices through the volume\n",
    "    slices_to_show = [\n",
    "        (volume.shape[0]//4, \"Anterior\"),\n",
    "        (volume.shape[0]//2, \"Central\"),\n",
    "        (3*volume.shape[0]//4, \"Posterior\")\n",
    "    ]\n",
    "    \n",
    "    slice_idx = 0\n",
    "    for row in range(3):\n",
    "        for col in range(4):\n",
    "            if slice_idx < len(slices_to_show):\n",
    "                slice_num, slice_name = slices_to_show[row]\n",
    "                \n",
    "                # Get the slice\n",
    "                if row == 0:  # Sagittal view\n",
    "                    slice_data = volume[slice_num, :, :]\n",
    "                    view_name = \"Sagittal\"\n",
    "                elif row == 1:  # Coronal view\n",
    "                    slice_data = volume[:, slice_num, :]\n",
    "                    view_name = \"Coronal\"\n",
    "                else:  # Axial view\n",
    "                    slice_data = volume[:, :, slice_num]\n",
    "                    view_name = \"Axial\"\n",
    "                \n",
    "                # Display slice\n",
    "                im = grid[slice_idx].imshow(slice_data, cmap='hot', aspect='equal')\n",
    "                grid[slice_idx].set_title(f'{view_name} {slice_name}\\nSlice {slice_num}')\n",
    "                grid[slice_idx].set_xlabel('X')\n",
    "                grid[slice_idx].set_ylabel('Y')\n",
    "                \n",
    "                # Add colorbar\n",
    "                plt.colorbar(im, ax=grid[slice_idx], shrink=0.8)\n",
    "                \n",
    "                slice_idx += 1\n",
    "            else:\n",
    "                # Show volume statistics\n",
    "                grid[slice_idx].text(0.5, 0.5, \n",
    "                                   f'Volume Stats:\\n'\n",
    "                                   f'Shape: {volume.shape}\\n'\n",
    "                                   f'Min: {volume.min():.1f}\\n'\n",
    "                                   f'Max: {volume.max():.1f}\\n'\n",
    "                                   f'Mean: {volume.mean():.1f}\\n'\n",
    "                                   f'Std: {volume.std():.1f}',\n",
    "                                   ha='center', va='center',\n",
    "                                   transform=grid[slice_idx].transAxes,\n",
    "                                   bbox=dict(boxstyle=\"round,pad=0.3\", facecolor=\"lightgray\"))\n",
    "                grid[slice_idx].set_title('Volume Statistics')\n",
    "                slice_idx += 1\n",
    "    \n",
    "    # Main title\n",
    "    fig.suptitle(f'Patient {patient_id} - 3D SPECT Volume Analysis\\n{sex}, {age} years', \n",
    "                fontsize=16, y=0.98)\n",
    "    \n",
    "    plt.tight_layout()\n",
    "    plt.show()"
   ]
  },
  {
   "cell_type": "code",
   "execution_count": null,
   "id": "f07ead2a",
   "metadata": {
    "lines_to_next_cell": 1
   },
   "outputs": [],
   "source": [
    "# Visualize the first sample volume\n",
    "if volume is not None:\n",
    "    patient_id = sample_volumes[0]['patient_id']\n",
    "    sex = sample_volumes[0].get('sex', 'Unknown')\n",
    "    age = sample_volumes[0].get('age', 'Unknown')\n",
    "    \n",
    "    print(f\"Visualizing volume for Patient {patient_id} ({sex}, {age} years)\")\n",
    "    visualize_3d_volume(volume, patient_id, sex, age)"
   ]
  },
  {
   "cell_type": "code",
   "execution_count": null,
   "id": "5144a7e6",
   "metadata": {
    "lines_to_next_cell": 1
   },
   "outputs": [],
   "source": [
    "# Cell 5: Maximum Intensity Projections (MIP)\n",
    "def create_mip_views(volume, patient_id, sex, age):\n",
    "    \"\"\"Create Maximum Intensity Projection views.\"\"\"\n",
    "    \n",
    "    fig, axes = plt.subplots(1, 3, figsize=(18, 6))\n",
    "    \n",
    "    # Axial MIP (top view)\n",
    "    axial_mip = np.max(volume, axis=0)\n",
    "    im1 = axes[0].imshow(axial_mip, cmap='hot', aspect='equal')\n",
    "    axes[0].set_title(f'Patient {patient_id} - Axial MIP\\n{sex}, {age} years')\n",
    "    axes[0].set_xlabel('Left-Right')\n",
    "    axes[0].set_ylabel('Anterior-Posterior')\n",
    "    plt.colorbar(im1, ax=axes[0], label='Intensity')\n",
    "    \n",
    "    # Coronal MIP (front view)\n",
    "    coronal_mip = np.max(volume, axis=1)\n",
    "    im2 = axes[1].imshow(coronal_mip, cmap='hot', aspect='equal')\n",
    "    axes[1].set_title(f'Patient {patient_id} - Coronal MIP\\n{sex}, {age} years')\n",
    "    axes[1].set_xlabel('Left-Right')\n",
    "    axes[1].set_ylabel('Superior-Inferior')\n",
    "    plt.colorbar(im2, ax=axes[1], label='Intensity')\n",
    "    \n",
    "    # Sagittal MIP (side view)\n",
    "    sagittal_mip = np.max(volume, axis=2)\n",
    "    im3 = axes[2].imshow(sagittal_mip, cmap='hot', aspect='equal')\n",
    "    axes[2].set_title(f'Patient {patient_id} - Sagittal MIP\\n{sex}, {age} years')\n",
    "    axes[2].set_xlabel('Anterior-Posterior')\n",
    "    axes[2].set_ylabel('Superior-Inferior')\n",
    "    plt.colorbar(im3, ax=axes[2], label='Intensity')\n",
    "    \n",
    "    # Add striatal region annotations (approximate)\n",
    "    for ax, mip, view_name in [(axes[0], axial_mip, 'Axial'), \n",
    "                               (axes[1], coronal_mip, 'Coronal'),\n",
    "                               (axes[2], sagittal_mip, 'Sagittal')]:\n",
    "        \n",
    "        height, width = mip.shape\n",
    "        \n",
    "        if view_name == 'Axial':\n",
    "            # Left and right striatum in axial view\n",
    "            ax.plot([width//4, width//3], [height//2, height//2], 'g-', linewidth=3, label='Left Striatum')\n",
    "            ax.plot([2*width//3, 3*width//4], [height//2, height//2], 'b-', linewidth=3, label='Right Striatum')\n",
    "        elif view_name == 'Coronal':\n",
    "            # Striatum in coronal view\n",
    "            ax.plot([width//2, width//2], [height//3, height//2], 'r-', linewidth=3, label='Striatum')\n",
    "        else:  # Sagittal\n",
    "            # Striatum in sagittal view\n",
    "            ax.plot([width//3, width//2], [height//2, height//2], 'r-', linewidth=3, label='Striatum')\n",
    "            \n",
    "        ax.legend()\n",
    "    \n",
    "    plt.tight_layout()\n",
    "    plt.show()"
   ]
  },
  {
   "cell_type": "code",
   "execution_count": null,
   "id": "9d96b55a",
   "metadata": {
    "lines_to_next_cell": 1
   },
   "outputs": [],
   "source": [
    "# Create MIP views\n",
    "if volume is not None:\n",
    "    create_mip_views(volume, patient_id, sex, age)"
   ]
  },
  {
   "cell_type": "code",
   "execution_count": null,
   "id": "d862154d",
   "metadata": {
    "lines_to_next_cell": 1
   },
   "outputs": [],
   "source": [
    "# Cell 6: Volume Statistics and Feature Extraction\n",
    "def extract_volume_features(volume):\n",
    "    \"\"\"Extract basic features from 3D volume.\"\"\"\n",
    "    \n",
    "    features = {}\n",
    "    \n",
    "    # Basic statistics\n",
    "    features['volume_shape'] = volume.shape\n",
    "    features['total_voxels'] = volume.size\n",
    "    features['min_intensity'] = float(volume.min())\n",
    "    features['max_intensity'] = float(volume.max())\n",
    "    features['mean_intensity'] = float(volume.mean())\n",
    "    features['std_intensity'] = float(volume.std())\n",
    "    features['median_intensity'] = float(np.median(volume))\n",
    "    \n",
    "    # Percentiles\n",
    "    percentiles = [10, 25, 50, 75, 90, 95, 99]\n",
    "    for p in percentiles:\n",
    "        features[f'p{p}_intensity'] = float(np.percentile(volume, p))\n",
    "    \n",
    "    # Volume statistics\n",
    "    features['volume_range'] = features['max_intensity'] - features['min_intensity']\n",
    "    features['coefficient_variation'] = features['std_intensity'] / features['mean_intensity'] if features['mean_intensity'] != 0 else 0\n",
    "    \n",
    "    # Entropy (measure of randomness)\n",
    "    hist, _ = np.histogram(volume, bins=50)\n",
    "    hist = hist[hist > 0]  # Remove zero bins\n",
    "    if len(hist) > 0:\n",
    "        hist_norm = hist / hist.sum()\n",
    "        features['entropy'] = float(-np.sum(hist_norm * np.log2(hist_norm)))\n",
    "    else:\n",
    "        features['entropy'] = 0.0\n",
    "    \n",
    "    return features"
   ]
  },
  {
   "cell_type": "code",
   "execution_count": null,
   "id": "7afd5e56",
   "metadata": {
    "lines_to_next_cell": 1
   },
   "outputs": [],
   "source": [
    "# Extract features from the sample volume\n",
    "if volume is not None:\n",
    "    print(\"Extracting volume features...\")\n",
    "    volume_features = extract_volume_features(volume)\n",
    "    \n",
    "    print(\"\\nVolume Features:\")\n",
    "    for key, value in volume_features.items():\n",
    "        print(f\"  {key}: {value}\")\n",
    "    \n",
    "    # Create a summary DataFrame\n",
    "    features_df = pd.DataFrame([volume_features])\n",
    "    print(f\"\\nFeatures DataFrame shape: {features_df.shape}\")"
   ]
  },
  {
   "cell_type": "code",
   "execution_count": null,
   "id": "2af34664",
   "metadata": {
    "lines_to_next_cell": 1
   },
   "outputs": [],
   "source": [
    "# Cell 7: Multiple Volume Comparison\n",
    "def compare_volumes(sample_volumes, max_volumes=3):\n",
    "    \"\"\"Compare multiple volumes side by side.\"\"\"\n",
    "    \n",
    "    volumes_to_compare = sample_volumes[:max_volumes]\n",
    "    \n",
    "    fig, axes = plt.subplots(len(volumes_to_compare), 3, figsize=(18, 6*len(volumes_to_compare)))\n",
    "    \n",
    "    for i, sample in enumerate(volumes_to_compare):\n",
    "        try:\n",
    "            volume, _ = load_3d_volume(sample['file_path'])\n",
    "            if volume is None:\n",
    "                continue\n",
    "                \n",
    "            patient_id = sample['patient_id']\n",
    "            sex = sample.get('sex', 'Unknown')\n",
    "            age = sample.get('age', 'Unknown')\n",
    "            \n",
    "            # Create MIP views\n",
    "            axial_mip = np.max(volume, axis=0)\n",
    "            coronal_mip = np.max(volume, axis=1)\n",
    "            sagittal_mip = np.max(volume, axis=2)\n",
    "            \n",
    "            # Plot\n",
    "            if len(volumes_to_compare) == 1:\n",
    "                ax_row = axes\n",
    "            else:\n",
    "                ax_row = axes[i]\n",
    "            \n",
    "            ax_row[0].imshow(axial_mip, cmap='hot', aspect='equal')\n",
    "            ax_row[0].set_title(f'Patient {patient_id} - Axial MIP\\n{sex}, {age} years')\n",
    "            ax_row[0].set_xlabel('Left-Right')\n",
    "            ax_row[0].set_ylabel('Anterior-Posterior')\n",
    "            \n",
    "            ax_row[1].imshow(coronal_mip, cmap='hot', aspect='equal')\n",
    "            ax_row[1].set_title(f'Patient {patient_id} - Coronal MIP\\n{sex}, {age} years')\n",
    "            ax_row[1].set_xlabel('Left-Right')\n",
    "            ax_row[1].set_ylabel('Superior-Inferior')\n",
    "            \n",
    "            ax_row[2].imshow(sagittal_mip, cmap='hot', aspect='equal')\n",
    "            ax_row[2].set_title(f'Patient {patient_id} - Sagittal MIP\\n{sex}, {age} years')\n",
    "            ax_row[2].set_xlabel('Anterior-Posterior')\n",
    "            ax_row[2].set_ylabel('Superior-Inferior')\n",
    "            \n",
    "        except Exception as e:\n",
    "            print(f\"Error processing volume {i}: {e}\")\n",
    "    \n",
    "    plt.tight_layout()\n",
    "    plt.show()"
   ]
  },
  {
   "cell_type": "code",
   "execution_count": null,
   "id": "10cb6d8d",
   "metadata": {},
   "outputs": [],
   "source": [
    "# Compare multiple volumes\n",
    "print(\"Comparing multiple volumes...\")\n",
    "compare_volumes(sample_volumes, max_volumes=3)"
   ]
  },
  {
   "cell_type": "code",
   "execution_count": null,
   "id": "9f36f1ee",
   "metadata": {},
   "outputs": [],
   "source": [
    "# Cell 8: Summary and Next Steps\n",
    "print(\"🎉 3D Volume Analysis Complete! 🎉\")\n",
    "print(\"\\n\" + \"=\"*60)\n",
    "print(\"SUMMARY\")\n",
    "print(\"=\"*60)"
   ]
  },
  {
   "cell_type": "code",
   "execution_count": null,
   "id": "59fbdddf",
   "metadata": {},
   "outputs": [],
   "source": [
    "if volume is not None:\n",
    "    print(f\"📊 Volume Analysis:\")\n",
    "    print(f\"  Shape: {volume.shape}\")\n",
    "    print(f\"  Total voxels: {volume.size:,}\")\n",
    "    print(f\"  Intensity range: [{volume.min():.1f}, {volume.max():.1f}]\")\n",
    "    print(f\"  Mean intensity: {volume.mean():.1f}\")\n",
    "    print(f\"  Standard deviation: {volume.std():.1f}\")"
   ]
  },
  {
   "cell_type": "code",
   "execution_count": null,
   "id": "0130de5f",
   "metadata": {},
   "outputs": [],
   "source": [
    "print(f\"\\n🔬 Analysis Completed:\")\n",
    "print(f\"  Multi-planar visualization\")\n",
    "print(f\"  Maximum Intensity Projections\")\n",
    "print(f\"  Volume feature extraction\")\n",
    "print(f\"  Multi-volume comparison\")"
   ]
  },
  {
   "cell_type": "code",
   "execution_count": null,
   "id": "4e40ac8a",
   "metadata": {},
   "outputs": [],
   "source": [
    "print(\"\\n🚀 Next Steps:\")\n",
    "print(\"1. Implement SBR calculation for striatal regions\")\n",
    "print(\"2. Add texture and shape features\")\n",
    "print(\"3. Develop 3D CNN preprocessing pipeline\")\n",
    "print(\"4. Implement patient-level cross-validation\")"
   ]
  }
 ],
 "metadata": {
  "jupytext": {
   "cell_metadata_filter": "-all",
   "encoding": "# -*- coding: utf-8 -*-",
   "formats": "ipynb,py:percent",
   "main_language": "python",
   "notebook_metadata_filter": "jupytext,-all"
  }
 },
 "nbformat": 4,
 "nbformat_minor": 5
}
